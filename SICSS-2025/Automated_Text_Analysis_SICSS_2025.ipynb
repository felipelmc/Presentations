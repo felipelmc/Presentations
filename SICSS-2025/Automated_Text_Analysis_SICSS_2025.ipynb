{
  "nbformat": 4,
  "nbformat_minor": 0,
  "metadata": {
    "colab": {
      "provenance": [],
      "gpuType": "T4"
    },
    "kernelspec": {
      "name": "python3",
      "display_name": "Python 3"
    },
    "language_info": {
      "name": "python"
    },
    "accelerator": "GPU"
  },
  "cells": [
    {
      "cell_type": "markdown",
      "source": [
        "# **Workshop**: Automated Text Analysis\n",
        "\n",
        "## **Instructor:** [Felipe Lamarca (IESP-UERJ)](https://felipelamarca.com/)\n",
        "\n",
        "Neste notebook, vamos ver como utilizar alguns modelos disponíveis no HuggingFace. Vamos começar fazendo o download das bibliotecas necessárias:"
      ],
      "metadata": {
        "id": "6dXfhbzUdNjL"
      }
    },
    {
      "cell_type": "code",
      "execution_count": null,
      "metadata": {
        "id": "lbtLs4jXcd1-"
      },
      "outputs": [],
      "source": [
        "!pip install -U sentence-transformers transformers datasets huggingface_hub fsspec"
      ]
    },
    {
      "cell_type": "code",
      "source": [
        "from sentence_transformers import SentenceTransformer\n",
        "from transformers import pipeline\n",
        "from sklearn.metrics.pairwise import cosine_similarity\n",
        "import numpy as np\n",
        "from datasets import load_dataset"
      ],
      "metadata": {
        "id": "GKApPQ7i_VEZ"
      },
      "execution_count": null,
      "outputs": []
    },
    {
      "cell_type": "markdown",
      "source": [
        "Vamos fazer o download de um modelo. Em especial, esse é um modelo de linguagem pequeno e pré-treinado com dados em português."
      ],
      "metadata": {
        "id": "b2fuowN3CZva"
      }
    },
    {
      "cell_type": "code",
      "source": [
        "model = SentenceTransformer(\"sentence-transformers/paraphrase-multilingual-MiniLM-L12-v2\")"
      ],
      "metadata": {
        "id": "2yNxv-hjeLXp"
      },
      "execution_count": null,
      "outputs": []
    },
    {
      "cell_type": "markdown",
      "source": [
        "Agora, vamos computar os embeddings de cada uma das frases abaixo. Lembre-se: embeddings são representações numéricas de palavras ou frases e, graças aos transformers, carregam características semânticas."
      ],
      "metadata": {
        "id": "Wb3BMYxFCl4J"
      }
    },
    {
      "cell_type": "markdown",
      "source": [
        "## **Embeddings**"
      ],
      "metadata": {
        "id": "4gLMlZFzEDd5"
      }
    },
    {
      "cell_type": "code",
      "source": [
        "sentences = [\n",
        "    \"O Banco Central aumentou a taxa de juros.\",\n",
        "    \"Sentei-me num banco\",\n",
        "    \"O Flamengo vencerá contra o Bayern.\"\n",
        "]\n",
        "embeddings = model.encode(sentences, normalize_embeddings=True)"
      ],
      "metadata": {
        "id": "CUZ4G0ceAeEz"
      },
      "execution_count": null,
      "outputs": []
    },
    {
      "cell_type": "code",
      "source": [
        "sim = cosine_similarity(embeddings)\n",
        "print(np.round(sim, 2))"
      ],
      "metadata": {
        "id": "HL9ympkjBPsq"
      },
      "execution_count": null,
      "outputs": []
    },
    {
      "cell_type": "markdown",
      "source": [
        "## **Análise de sentimento**"
      ],
      "metadata": {
        "id": "HwnO80GYEH_a"
      }
    },
    {
      "cell_type": "code",
      "source": [
        "sentiment = pipeline(\n",
        "    \"text-classification\",\n",
        "    model=\"pysentimiento/bertweet-pt-sentiment\",\n",
        "    top_k=None,              # devolve scores para POS / NEG / NEU\n",
        "    truncation=True\n",
        ")"
      ],
      "metadata": {
        "id": "NEnkxvHiBhWq"
      },
      "execution_count": null,
      "outputs": []
    },
    {
      "cell_type": "code",
      "source": [
        "sentiment(\"Esse celular é ótimo!\")"
      ],
      "metadata": {
        "id": "p62vQ9tTEPAw"
      },
      "execution_count": null,
      "outputs": []
    },
    {
      "cell_type": "code",
      "source": [
        "sentiment(\"A comida que eu comi estava horrível.\")"
      ],
      "metadata": {
        "id": "xLwVpEOpD4n0"
      },
      "execution_count": null,
      "outputs": []
    },
    {
      "cell_type": "code",
      "source": [
        "sentiment(\"Não tenho certeza sobre o que estou sentindo...\")"
      ],
      "metadata": {
        "id": "j1x43avsD9bG"
      },
      "execution_count": null,
      "outputs": []
    },
    {
      "cell_type": "markdown",
      "source": [
        "## **Geração automática de resumos**\n",
        "\n",
        "https://huggingface.co/datasets/UFRGS/brwac"
      ],
      "metadata": {
        "id": "WdlW7OBdEQui"
      }
    },
    {
      "cell_type": "code",
      "source": [
        "summarizer = pipeline(\n",
        "    \"summarization\",\n",
        "    model=\"recogna-nlp/ptt5-base-summ-cstnews\",   # T5 pré-treinado no BrWaC + fine-tuning CSTNews\n",
        "    max_new_tokens=80, min_new_tokens=15\n",
        ")"
      ],
      "metadata": {
        "id": "lGw3vc6NE2Jy"
      },
      "execution_count": null,
      "outputs": []
    },
    {
      "cell_type": "code",
      "source": [
        "texto = \"\"\"\n",
        "A Praia de Copacabana já perdeu 10% da faixa de areia nos últimos dez anos. E, se o planeta continuar aquecendo no ritmo atual, o futuro da orla carioca é sombrio. Segundo estudo da Universidade Federal do Rio de Janeiro (UFRJ), praias como Leme, Copacabana, Ipanema e Leblon podem recuar de 70 a 100 metros até 2100, transformando-se em filetes de areia. Os dados fazem parte de uma projeção baseada em modelos climáticos internacionais e foram publicados na revista Natural Hazards. As informações são do jornal O Globo.\n",
        "O levantamento analisou o impacto da elevação do nível do mar em toda a faixa entre o Porto do Rio e o Leblon, incluindo a Baía de Guanabara, a Lagoa Rodrigo de Freitas e áreas vulneráveis como os manguezais de Guapimirim. Em Botafogo, por exemplo, a perda estimada é de até 70 metros. Em Niterói, o estudo avaliou desde a região portuária até a praia e a lagoa de Piratininga.\n",
        "“O nível do mar mais elevado impedirá que a água de grandes chuvas escoe das áreas mais baixas, como a Lagoa e o entorno da Baía de Guanabara”, explicou a pesquisadora Raquel Toste, do Laboratório de Métodos Computacionais (Lamce) da Coppe/UFRJ, que assina o estudo.\n",
        "\"\"\"\n",
        "\n",
        "print(summarizer(texto)[0][\"summary_text\"])"
      ],
      "metadata": {
        "id": "WIC-l6m1EUhr"
      },
      "execution_count": null,
      "outputs": []
    },
    {
      "cell_type": "markdown",
      "source": [
        "## **Conversação e prompting**"
      ],
      "metadata": {
        "id": "qC0raKZvGMPB"
      }
    },
    {
      "cell_type": "code",
      "source": [
        "# Carregando o modelo ajustado para o português\n",
        "generator = pipeline(\n",
        "    \"text-generation\",\n",
        "    model=\"rhaymison/phi-3-portuguese-tom-cat-4k-instruct\",\n",
        "    max_new_tokens=100,\n",
        "    temperature=0.7,\n",
        ")"
      ],
      "metadata": {
        "id": "sl9-leJwGTVS"
      },
      "execution_count": null,
      "outputs": []
    },
    {
      "cell_type": "code",
      "source": [
        "# Escrevendo um prompt simples\n",
        "prompt = (\n",
        "    \"<s><|system|>\\nVocê é um assistente inteligente e gentil.\\n\"\n",
        "    \"<|user|>\\nExplique o que é aprendizado de máquina em termos simples.\\n\"\n",
        "    \"<|assistant|>\\n\"\n",
        ")\n",
        "\n",
        "# Gerando resposta\n",
        "resposta = generator(prompt)[0][\"generated_text\"]\n",
        "\n",
        "# Imprimindo apenas a resposta do assistente\n",
        "print(resposta.split(\"<|assistant|>\")[-1].strip())"
      ],
      "metadata": {
        "id": "QtRNldvjGLuC"
      },
      "execution_count": null,
      "outputs": []
    },
    {
      "cell_type": "markdown",
      "source": [
        "## **Exercício**\n",
        "\n",
        "**Parte 1:** use o modelo `pierreguillou/t5-base-pt-zero-shot` para prever o tema de um artigo sem treino supervisionado;\n",
        "\n",
        "**Parte 2:** Encontre artigos semelhantes com base em embeddings de sentenças. Para gerar os embeddings, use o modelo `tgsc/sentence-transformer-ult5-pt-small`;\n",
        "\n",
        "**Parte 3:** Gere resumos para os artigos com o modelo `recogna-nlp/ptt5-base-summ-cstnews`."
      ],
      "metadata": {
        "id": "v_6j2nvJL1eJ"
      }
    },
    {
      "cell_type": "code",
      "source": [
        "from datasets import load_dataset\n",
        "ds = load_dataset(\"iara-project/news-articles-ptbr-dataset\", split=\"test\").shuffle(seed=42).select(range(100))"
      ],
      "metadata": {
        "id": "qyvhmoaUOJPy"
      },
      "execution_count": null,
      "outputs": []
    }
  ]
}